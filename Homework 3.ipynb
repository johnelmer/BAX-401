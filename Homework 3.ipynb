{
 "cells": [
  {
   "cell_type": "code",
   "execution_count": 1,
   "metadata": {},
   "outputs": [
    {
     "name": "stderr",
     "output_type": "stream",
     "text": [
      "Loading required package: carData\n",
      "── Attaching packages ─────────────────────────────────────── tidyverse 1.2.1 ──\n",
      "✔ ggplot2 3.1.0     ✔ purrr   0.2.5\n",
      "✔ tibble  2.1.3     ✔ dplyr   0.8.3\n",
      "✔ tidyr   1.0.0     ✔ stringr 1.4.0\n",
      "✔ readr   1.3.1     ✔ forcats 0.3.0\n",
      "── Conflicts ────────────────────────────────────────── tidyverse_conflicts() ──\n",
      "✖ dplyr::filter()  masks stats::filter()\n",
      "✖ purrr::flatten() masks jsonlite::flatten()\n",
      "✖ dplyr::lag()     masks stats::lag()\n",
      "✖ dplyr::recode()  masks car::recode()\n",
      "✖ purrr::some()    masks car::some()\n",
      "\n",
      "Attaching package: ‘DescTools’\n",
      "\n",
      "The following object is masked from ‘package:car’:\n",
      "\n",
      "    Recode\n",
      "\n",
      "Loading required package: lattice\n",
      "\n",
      "Attaching package: ‘lattice’\n",
      "\n",
      "The following object is masked from ‘package:userfriendlyscience’:\n",
      "\n",
      "    oneway\n",
      "\n",
      "Loading required package: survival\n",
      "Loading required package: Formula\n",
      "\n",
      "Attaching package: ‘Hmisc’\n",
      "\n",
      "The following objects are masked from ‘package:DescTools’:\n",
      "\n",
      "    %nin%, Label, Mean, Quantile\n",
      "\n",
      "The following object is masked from ‘package:userfriendlyscience’:\n",
      "\n",
      "    escapeRegex\n",
      "\n",
      "The following objects are masked from ‘package:dplyr’:\n",
      "\n",
      "    src, summarize\n",
      "\n",
      "The following objects are masked from ‘package:base’:\n",
      "\n",
      "    format.pval, units\n",
      "\n",
      "\n",
      "Attaching package: ‘MASS’\n",
      "\n",
      "The following object is masked from ‘package:dplyr’:\n",
      "\n",
      "    select\n",
      "\n",
      "\n",
      "Attaching package: ‘caret’\n",
      "\n",
      "The following object is masked from ‘package:survival’:\n",
      "\n",
      "    cluster\n",
      "\n",
      "The following objects are masked from ‘package:DescTools’:\n",
      "\n",
      "    MAE, RMSE\n",
      "\n",
      "The following object is masked from ‘package:purrr’:\n",
      "\n",
      "    lift\n",
      "\n"
     ]
    }
   ],
   "source": [
    "library(stats)\n",
    "library(nortest)\n",
    "library(car)\n",
    "library(reshape2)\n",
    "library(tidyverse)\n",
    "library(dplyr)\n",
    "library(userfriendlyscience)\n",
    "library(PMCMRplus)\n",
    "library(nortest)\n",
    "library(DescTools)\n",
    "library(readxl)\n",
    "library(Hmisc)\n",
    "library(MASS)\n",
    "library(caret)"
   ]
  },
  {
   "cell_type": "markdown",
   "metadata": {},
   "source": [
    "Ingest Data 1"
   ]
  },
  {
   "cell_type": "code",
   "execution_count": 2,
   "metadata": {},
   "outputs": [],
   "source": [
    "data1 <- read.csv('./Data1.csv')"
   ]
  },
  {
   "cell_type": "code",
   "execution_count": 3,
   "metadata": {},
   "outputs": [],
   "source": [
    "data1 <- data1[,2:4]"
   ]
  },
  {
   "cell_type": "code",
   "execution_count": 4,
   "metadata": {},
   "outputs": [],
   "source": [
    "data1$Month.Before <- str_replace(data1$Month.Before, '$', '')\n",
    "data1$Month.After <- str_replace(data1$Month.After, '$', '')"
   ]
  },
  {
   "cell_type": "code",
   "execution_count": 5,
   "metadata": {},
   "outputs": [],
   "source": [
    "data1$Joined. <- factor(data1$Joined.)\n",
    "data1$Month.Before <- as.numeric(data1$Month.Before)\n",
    "data1$Month.After <- as.numeric(data1$Month.After)"
   ]
  },
  {
   "cell_type": "code",
   "execution_count": 6,
   "metadata": {},
   "outputs": [
    {
     "data": {
      "text/html": [
       "<table>\n",
       "<caption>A data.frame: 6 × 3</caption>\n",
       "<thead>\n",
       "\t<tr><th></th><th scope=col>Month.Before</th><th scope=col>Month.After</th><th scope=col>Joined.</th></tr>\n",
       "\t<tr><th></th><th scope=col>&lt;dbl&gt;</th><th scope=col>&lt;dbl&gt;</th><th scope=col>&lt;fct&gt;</th></tr>\n",
       "</thead>\n",
       "<tbody>\n",
       "\t<tr><th scope=row>1</th><td>135</td><td>154</td><td>0</td></tr>\n",
       "\t<tr><th scope=row>2</th><td> 35</td><td> 68</td><td>0</td></tr>\n",
       "\t<tr><th scope=row>3</th><td> 43</td><td> 87</td><td>0</td></tr>\n",
       "\t<tr><th scope=row>4</th><td>119</td><td>159</td><td>0</td></tr>\n",
       "\t<tr><th scope=row>5</th><td> 63</td><td> 85</td><td>0</td></tr>\n",
       "\t<tr><th scope=row>6</th><td> 33</td><td> 70</td><td>0</td></tr>\n",
       "</tbody>\n",
       "</table>\n"
      ],
      "text/latex": [
       "A data.frame: 6 × 3\n",
       "\\begin{tabular}{r|lll}\n",
       "  & Month.Before & Month.After & Joined.\\\\\n",
       "  & <dbl> & <dbl> & <fct>\\\\\n",
       "\\hline\n",
       "\t1 & 135 & 154 & 0\\\\\n",
       "\t2 &  35 &  68 & 0\\\\\n",
       "\t3 &  43 &  87 & 0\\\\\n",
       "\t4 & 119 & 159 & 0\\\\\n",
       "\t5 &  63 &  85 & 0\\\\\n",
       "\t6 &  33 &  70 & 0\\\\\n",
       "\\end{tabular}\n"
      ],
      "text/markdown": [
       "\n",
       "A data.frame: 6 × 3\n",
       "\n",
       "| <!--/--> | Month.Before &lt;dbl&gt; | Month.After &lt;dbl&gt; | Joined. &lt;fct&gt; |\n",
       "|---|---|---|---|\n",
       "| 1 | 135 | 154 | 0 |\n",
       "| 2 |  35 |  68 | 0 |\n",
       "| 3 |  43 |  87 | 0 |\n",
       "| 4 | 119 | 159 | 0 |\n",
       "| 5 |  63 |  85 | 0 |\n",
       "| 6 |  33 |  70 | 0 |\n",
       "\n"
      ],
      "text/plain": [
       "  Month.Before Month.After Joined.\n",
       "1 135          154         0      \n",
       "2  35           68         0      \n",
       "3  43           87         0      \n",
       "4 119          159         0      \n",
       "5  63           85         0      \n",
       "6  33           70         0      "
      ]
     },
     "metadata": {},
     "output_type": "display_data"
    }
   ],
   "source": [
    "head(data1)"
   ]
  },
  {
   "cell_type": "code",
   "execution_count": 47,
   "metadata": {},
   "outputs": [],
   "source": [
    "stack_data1 <- melt(data1, id.vars = 'Joined.')"
   ]
  },
  {
   "cell_type": "code",
   "execution_count": 48,
   "metadata": {},
   "outputs": [],
   "source": [
    "anova <- aov(stack_data1$value ~ factor(stack_data1$Joined.) + factor(stack_data1$variable) +\n",
    "            factor(stack_data1$variable) * factor(stack_data1$Joined.))"
   ]
  },
  {
   "cell_type": "code",
   "execution_count": 49,
   "metadata": {},
   "outputs": [
    {
     "data": {
      "text/plain": [
       "                                                          Df Sum Sq Mean Sq\n",
       "factor(stack_data1$Joined.)                                1 100393  100393\n",
       "factor(stack_data1$variable)                               1 182516  182516\n",
       "factor(stack_data1$Joined.):factor(stack_data1$variable)   1  20299   20299\n",
       "Residuals                                                394 586595    1489\n",
       "                                                         F value   Pr(>F)    \n",
       "factor(stack_data1$Joined.)                                67.43 3.16e-15 ***\n",
       "factor(stack_data1$variable)                              122.59  < 2e-16 ***\n",
       "factor(stack_data1$Joined.):factor(stack_data1$variable)   13.63 0.000253 ***\n",
       "Residuals                                                                    \n",
       "---\n",
       "Signif. codes:  0 ‘***’ 0.001 ‘**’ 0.01 ‘*’ 0.05 ‘.’ 0.1 ‘ ’ 1"
      ]
     },
     "metadata": {},
     "output_type": "display_data"
    }
   ],
   "source": [
    "summary(anova)"
   ]
  },
  {
   "cell_type": "code",
   "execution_count": 50,
   "metadata": {},
   "outputs": [
    {
     "data": {
      "text/plain": [
       "\n",
       "\tAnderson-Darling normality test\n",
       "\n",
       "data:  residuals\n",
       "A = 6.1553, p-value = 3.791e-15\n"
      ]
     },
     "metadata": {},
     "output_type": "display_data"
    }
   ],
   "source": [
    "residuals <- resid(anova)\n",
    "ad.test(residuals)"
   ]
  },
  {
   "cell_type": "code",
   "execution_count": 51,
   "metadata": {},
   "outputs": [
    {
     "data": {
      "text/plain": [
       "\n",
       "\tBartlett test of homogeneity of variances\n",
       "\n",
       "data:  stack_data1$value by factor(stack_data1$Joined.)\n",
       "Bartlett's K-squared = 3.4984, df = 1, p-value = 0.06143\n"
      ]
     },
     "metadata": {},
     "output_type": "display_data"
    }
   ],
   "source": [
    "bartlett.test(stack_data1$value ~ factor(stack_data1$Joined.))"
   ]
  },
  {
   "cell_type": "code",
   "execution_count": 52,
   "metadata": {},
   "outputs": [
    {
     "data": {
      "image/png": "[encoded data removed]",
      "text/plain": [
       "plot without title"
      ]
     },
     "metadata": {},
     "output_type": "display_data"
    }
   ],
   "source": [
    "interaction.plot( factor(stack_data1$variable), factor(stack_data1$Joined.),stack_data1$value)"
   ]
  },
  {
   "cell_type": "code",
   "execution_count": 53,
   "metadata": {},
   "outputs": [
    {
     "data": {
      "image/png": "[encoded data removed]",
      "text/plain": [
       "plot without title"
      ]
     },
     "metadata": {},
     "output_type": "display_data"
    }
   ],
   "source": [
    "interaction.plot( factor(stack_data1$Joined.), factor(stack_data1$variable), stack_data1$value)"
   ]
  },
  {
   "cell_type": "code",
   "execution_count": null,
   "metadata": {},
   "outputs": [],
   "source": [
    "interaction.plot( factor(stack_data1$variable), factor(stack_data1$Joined.),stack_data1$value)"
   ]
  },
  {
   "cell_type": "code",
   "execution_count": 55,
   "metadata": {},
   "outputs": [
    {
     "data": {
      "text/plain": [
       "\n",
       "Call:\n",
       "lm(formula = data1$Month.After ~ data1$Month.Before + factor(data1$Joined.))\n",
       "\n",
       "Residuals:\n",
       "    Min      1Q  Median      3Q     Max \n",
       "-16.587  -7.791  -0.371   7.545  16.020 \n",
       "\n",
       "Coefficients:\n",
       "                       Estimate Std. Error t value Pr(>|t|)    \n",
       "(Intercept)            29.85711    1.45285   20.55   <2e-16 ***\n",
       "data1$Month.Before      1.01442    0.01694   59.89   <2e-16 ***\n",
       "factor(data1$Joined.)1 28.76241    1.32835   21.65   <2e-16 ***\n",
       "---\n",
       "Signif. codes:  0 ‘***’ 0.001 ‘**’ 0.01 ‘*’ 0.05 ‘.’ 0.1 ‘ ’ 1\n",
       "\n",
       "Residual standard error: 8.984 on 196 degrees of freedom\n",
       "Multiple R-squared:  0.9615,\tAdjusted R-squared:  0.9611 \n",
       "F-statistic:  2447 on 2 and 196 DF,  p-value: < 2.2e-16\n"
      ]
     },
     "metadata": {},
     "output_type": "display_data"
    }
   ],
   "source": [
    "regression <- lm(data1$Month.After ~ data1$Month.Before + factor(data1$Joined.))\n",
    "summary(regression)"
   ]
  },
  {
   "cell_type": "code",
   "execution_count": null,
   "metadata": {},
   "outputs": [],
   "source": []
  },
  {
   "cell_type": "code",
   "execution_count": 56,
   "metadata": {},
   "outputs": [
    {
     "data": {
      "text/html": [
       "88.1341463414634"
      ],
      "text/latex": [
       "88.1341463414634"
      ],
      "text/markdown": [
       "88.1341463414634"
      ],
      "text/plain": [
       "[1] 88.13415"
      ]
     },
     "metadata": {},
     "output_type": "display_data"
    }
   ],
   "source": [
    "mean(data1[which(data1$Joined. == 1),]$Month.Before)"
   ]
  },
  {
   "cell_type": "code",
   "execution_count": 57,
   "metadata": {},
   "outputs": [
    {
     "data": {
      "text/html": [
       "148.024390243902"
      ],
      "text/latex": [
       "148.024390243902"
      ],
      "text/markdown": [
       "148.024390243902"
      ],
      "text/plain": [
       "[1] 148.0244"
      ]
     },
     "metadata": {},
     "output_type": "display_data"
    }
   ],
   "source": [
    "mean(data1[which(data1$Joined. == 1),]$Month.After)"
   ]
  },
  {
   "cell_type": "code",
   "execution_count": 58,
   "metadata": {},
   "outputs": [
    {
     "data": {
      "text/html": [
       "70.3760683760684"
      ],
      "text/latex": [
       "70.3760683760684"
      ],
      "text/markdown": [
       "70.3760683760684"
      ],
      "text/plain": [
       "[1] 70.37607"
      ]
     },
     "metadata": {},
     "output_type": "display_data"
    }
   ],
   "source": [
    "mean(data1[which(data1$Joined. == 0),]$Month.Before)"
   ]
  },
  {
   "cell_type": "code",
   "execution_count": 59,
   "metadata": {},
   "outputs": [
    {
     "data": {
      "text/html": [
       "101.247863247863"
      ],
      "text/latex": [
       "101.247863247863"
      ],
      "text/markdown": [
       "101.247863247863"
      ],
      "text/plain": [
       "[1] 101.2479"
      ]
     },
     "metadata": {},
     "output_type": "display_data"
    }
   ],
   "source": [
    "mean(data1[which(data1$Joined. == 0),]$Month.After)"
   ]
  },
  {
   "cell_type": "code",
   "execution_count": 60,
   "metadata": {},
   "outputs": [],
   "source": [
    "data1$difference  <- data1$Month.After - data1$Month.Before"
   ]
  },
  {
   "cell_type": "code",
   "execution_count": 62,
   "metadata": {},
   "outputs": [
    {
     "data": {
      "text/plain": [
       "                       Df Sum Sq Mean Sq F value Pr(>F)    \n",
       "factor(data1$Joined.)   1  40597   40597   503.7 <2e-16 ***\n",
       "Residuals             197  15877      81                   \n",
       "---\n",
       "Signif. codes:  0 ‘***’ 0.001 ‘**’ 0.01 ‘*’ 0.05 ‘.’ 0.1 ‘ ’ 1"
      ]
     },
     "metadata": {},
     "output_type": "display_data"
    }
   ],
   "source": [
    "anova <- aov(data1$difference ~ factor(data1$Joined.))\n",
    "summary(anova)"
   ]
  },
  {
   "cell_type": "code",
   "execution_count": 63,
   "metadata": {},
   "outputs": [
    {
     "data": {
      "text/plain": [
       "\n",
       "\tAnderson-Darling normality test\n",
       "\n",
       "data:  residuals\n",
       "A = 2.1948, p-value = 1.375e-05\n"
      ]
     },
     "metadata": {},
     "output_type": "display_data"
    }
   ],
   "source": [
    "residuals <- resid(anova)\n",
    "ad.test(residuals)"
   ]
  },
  {
   "cell_type": "code",
   "execution_count": 64,
   "metadata": {},
   "outputs": [
    {
     "data": {
      "text/plain": [
       "\n",
       "\tBartlett test of homogeneity of variances\n",
       "\n",
       "data:  data1$difference by factor(data1$Joined.)\n",
       "Bartlett's K-squared = 0.035396, df = 1, p-value = 0.8508\n"
      ]
     },
     "metadata": {},
     "output_type": "display_data"
    }
   ],
   "source": [
    "bartlett.test(data1$difference ~ factor(data1$Joined.))"
   ]
  },
  {
   "cell_type": "code",
   "execution_count": 65,
   "metadata": {},
   "outputs": [
    {
     "data": {
      "text/plain": [
       "\n",
       "\tKruskal-Wallis rank sum test\n",
       "\n",
       "data:  data1$difference by factor(data1$Joined.)\n",
       "Kruskal-Wallis chi-squared = 143.52, df = 1, p-value < 2.2e-16\n"
      ]
     },
     "metadata": {},
     "output_type": "display_data"
    }
   ],
   "source": [
    "kruskal.test(data1$difference ~ factor(data1$Joined.))"
   ]
  },
  {
   "cell_type": "code",
   "execution_count": 7,
   "metadata": {},
   "outputs": [],
   "source": [
    "data2 <- read.csv('./Data2.csv')"
   ]
  },
  {
   "cell_type": "code",
   "execution_count": 8,
   "metadata": {},
   "outputs": [
    {
     "data": {
      "text/html": [
       "<ol class=list-inline>\n",
       "\t<li>'Customer.ID'</li>\n",
       "\t<li>'Joined.'</li>\n",
       "\t<li>'Customer.Age.with.Firm.at.time.of.launching.the.online.community'</li>\n",
       "\t<li>'Churned.at.3.months.after.launch.of.the.online.community'</li>\n",
       "\t<li>'Average.Spend.Last.3.months.of.Life.with.the.firm'</li>\n",
       "</ol>\n"
      ],
      "text/latex": [
       "\\begin{enumerate*}\n",
       "\\item 'Customer.ID'\n",
       "\\item 'Joined.'\n",
       "\\item 'Customer.Age.with.Firm.at.time.of.launching.the.online.community'\n",
       "\\item 'Churned.at.3.months.after.launch.of.the.online.community'\n",
       "\\item 'Average.Spend.Last.3.months.of.Life.with.the.firm'\n",
       "\\end{enumerate*}\n"
      ],
      "text/markdown": [
       "1. 'Customer.ID'\n",
       "2. 'Joined.'\n",
       "3. 'Customer.Age.with.Firm.at.time.of.launching.the.online.community'\n",
       "4. 'Churned.at.3.months.after.launch.of.the.online.community'\n",
       "5. 'Average.Spend.Last.3.months.of.Life.with.the.firm'\n",
       "\n",
       "\n"
      ],
      "text/plain": [
       "[1] \"Customer.ID\"                                                     \n",
       "[2] \"Joined.\"                                                         \n",
       "[3] \"Customer.Age.with.Firm.at.time.of.launching.the.online.community\"\n",
       "[4] \"Churned.at.3.months.after.launch.of.the.online.community\"        \n",
       "[5] \"Average.Spend.Last.3.months.of.Life.with.the.firm\"               "
      ]
     },
     "metadata": {},
     "output_type": "display_data"
    }
   ],
   "source": [
    "colnames(data2)"
   ]
  },
  {
   "cell_type": "code",
   "execution_count": 13,
   "metadata": {},
   "outputs": [],
   "source": [
    "colnames(data2) <- c('CustomerID', 'Joined', 'AgeWithFirm', 'ChurnedAtThree', 'AveSpend')"
   ]
  },
  {
   "cell_type": "code",
   "execution_count": 57,
   "metadata": {},
   "outputs": [
    {
     "data": {
      "text/plain": [
       "\n",
       "Call:\n",
       "glm(formula = ChurnedAtThree ~ Joined + AgeWithFirm + AveSpend, \n",
       "    family = binomial(link = \"logit\"), data = data2)\n",
       "\n",
       "Deviance Residuals: \n",
       "    Min       1Q   Median       3Q      Max  \n",
       "-1.6753  -1.2113   0.7973   1.0979   1.2894  \n",
       "\n",
       "Coefficients:\n",
       "             Estimate Std. Error z value Pr(>|z|)   \n",
       "(Intercept)  0.474797   0.523983   0.906  0.36487   \n",
       "Joined       0.916584   0.355287   2.580  0.00988 **\n",
       "AgeWithFirm -0.055849   0.071598  -0.780  0.43537   \n",
       "AveSpend    -0.002819   0.005655  -0.498  0.61815   \n",
       "---\n",
       "Signif. codes:  0 ‘***’ 0.001 ‘**’ 0.01 ‘*’ 0.05 ‘.’ 0.1 ‘ ’ 1\n",
       "\n",
       "(Dispersion parameter for binomial family taken to be 1)\n",
       "\n",
       "    Null deviance: 268.95  on 198  degrees of freedom\n",
       "Residual deviance: 260.42  on 195  degrees of freedom\n",
       "AIC: 268.42\n",
       "\n",
       "Number of Fisher Scoring iterations: 4\n"
      ]
     },
     "metadata": {},
     "output_type": "display_data"
    }
   ],
   "source": [
    "mylogit<-glm(ChurnedAtThree ~ Joined + AgeWithFirm + AveSpend\n",
    "             ,data=data2,family=binomial(link=\"logit\"))\n",
    "summary(mylogit)"
   ]
  },
  {
   "cell_type": "code",
   "execution_count": 20,
   "metadata": {},
   "outputs": [],
   "source": [
    "preddata<-with(data2,data.frame(Joined, AgeWithFirm, AveSpend))"
   ]
  },
  {
   "cell_type": "code",
   "execution_count": 21,
   "metadata": {},
   "outputs": [],
   "source": [
    "probchurn <- predict(mylogit,newdata=preddata,type=\"response\")"
   ]
  },
  {
   "cell_type": "code",
   "execution_count": 94,
   "metadata": {},
   "outputs": [],
   "source": [
    "predchurn<-ifelse(probchurn > 0.50, 1,0)"
   ]
  },
  {
   "cell_type": "code",
   "execution_count": 95,
   "metadata": {},
   "outputs": [
    {
     "name": "stdout",
     "output_type": "stream",
     "text": [
      "[1] \"Accuracy 0.628140703517588\"\n"
     ]
    }
   ],
   "source": [
    "missclass<-predchurn!=data2$ChurnedAtThree\n",
    "misclasserror<-mean(predchurn!=data2$ChurnedAtThree)\n",
    "print(paste('Accuracy',1-misclasserror))"
   ]
  },
  {
   "cell_type": "code",
   "execution_count": 96,
   "metadata": {},
   "outputs": [
    {
     "data": {
      "text/plain": [
       "Confusion Matrix and Statistics\n",
       "\n",
       "          Reference\n",
       "Prediction   0   1\n",
       "         0  24  17\n",
       "         1  57 101\n",
       "                                         \n",
       "               Accuracy : 0.6281         \n",
       "                 95% CI : (0.557, 0.6954)\n",
       "    No Information Rate : 0.593          \n",
       "    P-Value [Acc > NIR] : 0.1743         \n",
       "                                         \n",
       "                  Kappa : 0.165          \n",
       "                                         \n",
       " Mcnemar's Test P-Value : 5.797e-06      \n",
       "                                         \n",
       "            Sensitivity : 0.8559         \n",
       "            Specificity : 0.2963         \n",
       "         Pos Pred Value : 0.6392         \n",
       "         Neg Pred Value : 0.5854         \n",
       "             Prevalence : 0.5930         \n",
       "         Detection Rate : 0.5075         \n",
       "   Detection Prevalence : 0.7940         \n",
       "      Balanced Accuracy : 0.5761         \n",
       "                                         \n",
       "       'Positive' Class : 1              \n",
       "                                         "
      ]
     },
     "metadata": {},
     "output_type": "display_data"
    }
   ],
   "source": [
    "confMat2<-confusionMatrix(data = as.factor(predchurn),\n",
    "                          reference = as.factor(data2$ChurnedAtThree),\n",
    "                          positive = \"1\")\n",
    "confMat2"
   ]
  },
  {
   "cell_type": "code",
   "execution_count": 90,
   "metadata": {},
   "outputs": [],
   "source": [
    "data2$retention <- 1 - probchurn"
   ]
  },
  {
   "cell_type": "code",
   "execution_count": 91,
   "metadata": {},
   "outputs": [],
   "source": [
    "write.csv(data2, './WithRetention.csv')"
   ]
  },
  {
   "cell_type": "code",
   "execution_count": 92,
   "metadata": {},
   "outputs": [
    {
     "data": {
      "text/html": [
       "0.292682926829596"
      ],
      "text/latex": [
       "0.292682926829596"
      ],
      "text/markdown": [
       "0.292682926829596"
      ],
      "text/plain": [
       "[1] 0.2926829"
      ]
     },
     "metadata": {},
     "output_type": "display_data"
    }
   ],
   "source": [
    "mean(data2[which(data2$Joined == 1),]$retention)"
   ]
  },
  {
   "cell_type": "code",
   "execution_count": 93,
   "metadata": {},
   "outputs": [
    {
     "data": {
      "text/html": [
       "0.487179487179488"
      ],
      "text/latex": [
       "0.487179487179488"
      ],
      "text/markdown": [
       "0.487179487179488"
      ],
      "text/plain": [
       "[1] 0.4871795"
      ]
     },
     "metadata": {},
     "output_type": "display_data"
    }
   ],
   "source": [
    "mean(data2[which(data2$Joined == 0),]$retention)"
   ]
  },
  {
   "cell_type": "code",
   "execution_count": 68,
   "metadata": {},
   "outputs": [],
   "source": [
    "retention_table <- read.csv('./RetentionTable.csv')"
   ]
  },
  {
   "cell_type": "code",
   "execution_count": 69,
   "metadata": {},
   "outputs": [
    {
     "data": {
      "text/plain": [
       "\n",
       "\tAnderson-Darling normality test\n",
       "\n",
       "data:  retention_table$Joined\n",
       "A = 5.3972, p-value = 1.956e-13\n"
      ]
     },
     "metadata": {},
     "output_type": "display_data"
    }
   ],
   "source": [
    "ad.test(retention_table$Joined)"
   ]
  },
  {
   "cell_type": "code",
   "execution_count": 71,
   "metadata": {},
   "outputs": [
    {
     "data": {
      "text/plain": [
       "\n",
       "\tAnderson-Darling normality test\n",
       "\n",
       "data:  retention_table$Did.not\n",
       "A = 5.8239, p-value = 2.022e-14\n"
      ]
     },
     "metadata": {},
     "output_type": "display_data"
    }
   ],
   "source": [
    "ad.test(retention_table$Did.not)"
   ]
  },
  {
   "cell_type": "code",
   "execution_count": 82,
   "metadata": {},
   "outputs": [
    {
     "data": {
      "text/plain": [
       "\n",
       "\tWilcoxon rank sum test with continuity correction\n",
       "\n",
       "data:  data2[which(data2$Joined == 1), ]$retention and data2[which(data2$Joined == 0), ]$retention\n",
       "W = 0, p-value = 1\n",
       "alternative hypothesis: true location shift is greater than 0\n"
      ]
     },
     "metadata": {},
     "output_type": "display_data"
    }
   ],
   "source": [
    "wilcox.test(data2[which(data2$Joined == 1),]$retention, \n",
    "            data2[which(data2$Joined == 0),]$retention, alternative = 'g', paired = FALSE, conf.level = 0.95)"
   ]
  },
  {
   "cell_type": "code",
   "execution_count": 97,
   "metadata": {},
   "outputs": [
    {
     "data": {
      "text/plain": [
       "\n",
       "\tWelch Two Sample t-test\n",
       "\n",
       "data:  data2[which(data2$Joined == 1), ]$retention and data2[which(data2$Joined == 0), ]$retention\n",
       "t = -43.711, df = 186.88, p-value = 1\n",
       "alternative hypothesis: true difference in means is greater than 0\n",
       "95 percent confidence interval:\n",
       " -0.2018519        Inf\n",
       "sample estimates:\n",
       "mean of x mean of y \n",
       "0.2926829 0.4871795 \n"
      ]
     },
     "metadata": {},
     "output_type": "display_data"
    }
   ],
   "source": [
    "t.test(data2[which(data2$Joined == 1),]$retention, \n",
    "            data2[which(data2$Joined == 0),]$retention, alternative = 'g', paired = FALSE)"
   ]
  },
  {
   "cell_type": "code",
   "execution_count": 36,
   "metadata": {},
   "outputs": [],
   "source": [
    "data3 <- read.csv('./Data3.csv')"
   ]
  },
  {
   "cell_type": "code",
   "execution_count": 37,
   "metadata": {},
   "outputs": [
    {
     "data": {
      "text/html": [
       "<ol class=list-inline>\n",
       "\t<li>'Campaign.Organic'</li>\n",
       "\t<li>'Customer.ID'</li>\n",
       "\t<li>'Month.Before'</li>\n",
       "\t<li>'Month.After'</li>\n",
       "\t<li>'Customer.Age.with.Firm.at.time.of.launching.the.online.community'</li>\n",
       "\t<li>'Joined.'</li>\n",
       "\t<li>'Churned.at.3.months'</li>\n",
       "\t<li>'Average.Spend.Last.3.months.of.Life.with.the.firm'</li>\n",
       "\t<li>'retention'</li>\n",
       "</ol>\n"
      ],
      "text/latex": [
       "\\begin{enumerate*}\n",
       "\\item 'Campaign.Organic'\n",
       "\\item 'Customer.ID'\n",
       "\\item 'Month.Before'\n",
       "\\item 'Month.After'\n",
       "\\item 'Customer.Age.with.Firm.at.time.of.launching.the.online.community'\n",
       "\\item 'Joined.'\n",
       "\\item 'Churned.at.3.months'\n",
       "\\item 'Average.Spend.Last.3.months.of.Life.with.the.firm'\n",
       "\\item 'retention'\n",
       "\\end{enumerate*}\n"
      ],
      "text/markdown": [
       "1. 'Campaign.Organic'\n",
       "2. 'Customer.ID'\n",
       "3. 'Month.Before'\n",
       "4. 'Month.After'\n",
       "5. 'Customer.Age.with.Firm.at.time.of.launching.the.online.community'\n",
       "6. 'Joined.'\n",
       "7. 'Churned.at.3.months'\n",
       "8. 'Average.Spend.Last.3.months.of.Life.with.the.firm'\n",
       "9. 'retention'\n",
       "\n",
       "\n"
      ],
      "text/plain": [
       "[1] \"Campaign.Organic\"                                                \n",
       "[2] \"Customer.ID\"                                                     \n",
       "[3] \"Month.Before\"                                                    \n",
       "[4] \"Month.After\"                                                     \n",
       "[5] \"Customer.Age.with.Firm.at.time.of.launching.the.online.community\"\n",
       "[6] \"Joined.\"                                                         \n",
       "[7] \"Churned.at.3.months\"                                             \n",
       "[8] \"Average.Spend.Last.3.months.of.Life.with.the.firm\"               \n",
       "[9] \"retention\"                                                       "
      ]
     },
     "metadata": {},
     "output_type": "display_data"
    }
   ],
   "source": [
    "colnames(data3)"
   ]
  },
  {
   "cell_type": "code",
   "execution_count": 39,
   "metadata": {},
   "outputs": [],
   "source": [
    "colnames(data3) <- c('CustomerOrganic', \n",
    "                     'CustomerID', \n",
    "                     'MonthBefore', \n",
    "                     'MonthAfter', \n",
    "                     'AgeWithFirm',\n",
    "                     'Joined', \n",
    "                     'ChurnedAtThree', \n",
    "                     'AveSpend', \n",
    "                     'Retention')"
   ]
  },
  {
   "cell_type": "code",
   "execution_count": 58,
   "metadata": {},
   "outputs": [],
   "source": [
    "data3$lifetime <- floor(1 / (1 - data3$Retention))"
   ]
  },
  {
   "cell_type": "code",
   "execution_count": 59,
   "metadata": {},
   "outputs": [
    {
     "data": {
      "text/html": [
       "<ol class=list-inline>\n",
       "\t<li>1</li>\n",
       "\t<li>2</li>\n",
       "\t<li>2</li>\n",
       "\t<li>1</li>\n",
       "\t<li>1</li>\n",
       "\t<li>1</li>\n",
       "\t<li>1</li>\n",
       "\t<li>2</li>\n",
       "\t<li>2</li>\n",
       "\t<li>1</li>\n",
       "\t<li>1</li>\n",
       "\t<li>1</li>\n",
       "\t<li>1</li>\n",
       "\t<li>1</li>\n",
       "\t<li>1</li>\n",
       "\t<li>1</li>\n",
       "\t<li>1</li>\n",
       "\t<li>1</li>\n",
       "\t<li>2</li>\n",
       "\t<li>1</li>\n",
       "\t<li>1</li>\n",
       "\t<li>1</li>\n",
       "\t<li>1</li>\n",
       "\t<li>1</li>\n",
       "\t<li>1</li>\n",
       "\t<li>1</li>\n",
       "\t<li>1</li>\n",
       "\t<li>1</li>\n",
       "\t<li>1</li>\n",
       "\t<li>1</li>\n",
       "\t<li>1</li>\n",
       "\t<li>1</li>\n",
       "\t<li>1</li>\n",
       "\t<li>1</li>\n",
       "\t<li>1</li>\n",
       "\t<li>1</li>\n",
       "\t<li>1</li>\n",
       "\t<li>2</li>\n",
       "\t<li>1</li>\n",
       "\t<li>1</li>\n",
       "\t<li>1</li>\n",
       "\t<li>2</li>\n",
       "\t<li>1</li>\n",
       "\t<li>1</li>\n",
       "\t<li>1</li>\n",
       "\t<li>1</li>\n",
       "\t<li>1</li>\n",
       "\t<li>1</li>\n",
       "\t<li>1</li>\n",
       "\t<li>1</li>\n",
       "\t<li>2</li>\n",
       "\t<li>1</li>\n",
       "\t<li>1</li>\n",
       "\t<li>1</li>\n",
       "\t<li>1</li>\n",
       "\t<li>1</li>\n",
       "\t<li>2</li>\n",
       "\t<li>1</li>\n",
       "\t<li>2</li>\n",
       "\t<li>1</li>\n",
       "\t<li>1</li>\n",
       "\t<li>1</li>\n",
       "\t<li>1</li>\n",
       "\t<li>1</li>\n",
       "\t<li>1</li>\n",
       "\t<li>1</li>\n",
       "\t<li>1</li>\n",
       "\t<li>2</li>\n",
       "\t<li>2</li>\n",
       "\t<li>1</li>\n",
       "\t<li>1</li>\n",
       "\t<li>1</li>\n",
       "\t<li>1</li>\n",
       "\t<li>2</li>\n",
       "\t<li>1</li>\n",
       "\t<li>2</li>\n",
       "\t<li>1</li>\n",
       "\t<li>2</li>\n",
       "\t<li>1</li>\n",
       "\t<li>1</li>\n",
       "\t<li>2</li>\n",
       "\t<li>2</li>\n",
       "\t<li>1</li>\n",
       "\t<li>1</li>\n",
       "\t<li>2</li>\n",
       "\t<li>1</li>\n",
       "\t<li>1</li>\n",
       "\t<li>1</li>\n",
       "\t<li>1</li>\n",
       "\t<li>2</li>\n",
       "\t<li>1</li>\n",
       "\t<li>1</li>\n",
       "\t<li>2</li>\n",
       "\t<li>1</li>\n",
       "\t<li>1</li>\n",
       "\t<li>1</li>\n",
       "\t<li>1</li>\n",
       "\t<li>1</li>\n",
       "\t<li>1</li>\n",
       "\t<li>1</li>\n",
       "\t<li>2</li>\n",
       "\t<li>2</li>\n",
       "\t<li>1</li>\n",
       "\t<li>2</li>\n",
       "\t<li>1</li>\n",
       "\t<li>2</li>\n",
       "\t<li>1</li>\n",
       "\t<li>1</li>\n",
       "\t<li>1</li>\n",
       "\t<li>1</li>\n",
       "\t<li>1</li>\n",
       "\t<li>2</li>\n",
       "\t<li>1</li>\n",
       "\t<li>1</li>\n",
       "\t<li>1</li>\n",
       "\t<li>1</li>\n",
       "\t<li>1</li>\n",
       "\t<li>1</li>\n",
       "\t<li>2</li>\n",
       "\t<li>1</li>\n",
       "\t<li>2</li>\n",
       "\t<li>1</li>\n",
       "\t<li>1</li>\n",
       "\t<li>1</li>\n",
       "\t<li>1</li>\n",
       "\t<li>1</li>\n",
       "\t<li>2</li>\n",
       "\t<li>1</li>\n",
       "\t<li>1</li>\n",
       "\t<li>2</li>\n",
       "\t<li>1</li>\n",
       "\t<li>1</li>\n",
       "\t<li>1</li>\n",
       "\t<li>1</li>\n",
       "\t<li>2</li>\n",
       "\t<li>1</li>\n",
       "\t<li>1</li>\n",
       "\t<li>1</li>\n",
       "\t<li>1</li>\n",
       "\t<li>1</li>\n",
       "\t<li>1</li>\n",
       "\t<li>1</li>\n",
       "\t<li>1</li>\n",
       "\t<li>1</li>\n",
       "\t<li>1</li>\n",
       "\t<li>1</li>\n",
       "\t<li>1</li>\n",
       "\t<li>1</li>\n",
       "\t<li>1</li>\n",
       "\t<li>1</li>\n",
       "\t<li>2</li>\n",
       "\t<li>1</li>\n",
       "\t<li>2</li>\n",
       "\t<li>1</li>\n",
       "\t<li>1</li>\n",
       "\t<li>1</li>\n",
       "\t<li>1</li>\n",
       "\t<li>1</li>\n",
       "\t<li>1</li>\n",
       "\t<li>2</li>\n",
       "\t<li>1</li>\n",
       "\t<li>2</li>\n",
       "\t<li>1</li>\n",
       "\t<li>2</li>\n",
       "\t<li>1</li>\n",
       "\t<li>1</li>\n",
       "\t<li>2</li>\n",
       "\t<li>1</li>\n",
       "\t<li>1</li>\n",
       "\t<li>1</li>\n",
       "\t<li>1</li>\n",
       "\t<li>1</li>\n",
       "\t<li>1</li>\n",
       "\t<li>2</li>\n",
       "\t<li>1</li>\n",
       "\t<li>1</li>\n",
       "\t<li>1</li>\n",
       "\t<li>2</li>\n",
       "\t<li>1</li>\n",
       "\t<li>1</li>\n",
       "\t<li>1</li>\n",
       "\t<li>1</li>\n",
       "\t<li>1</li>\n",
       "\t<li>1</li>\n",
       "\t<li>1</li>\n",
       "\t<li>1</li>\n",
       "\t<li>1</li>\n",
       "\t<li>1</li>\n",
       "\t<li>2</li>\n",
       "\t<li>1</li>\n",
       "\t<li>1</li>\n",
       "\t<li>2</li>\n",
       "\t<li>1</li>\n",
       "\t<li>1</li>\n",
       "\t<li>2</li>\n",
       "\t<li>1</li>\n",
       "\t<li>1</li>\n",
       "\t<li>1</li>\n",
       "\t<li>1</li>\n",
       "</ol>\n"
      ],
      "text/latex": [
       "\\begin{enumerate*}\n",
       "\\item 1\n",
       "\\item 2\n",
       "\\item 2\n",
       "\\item 1\n",
       "\\item 1\n",
       "\\item 1\n",
       "\\item 1\n",
       "\\item 2\n",
       "\\item 2\n",
       "\\item 1\n",
       "\\item 1\n",
       "\\item 1\n",
       "\\item 1\n",
       "\\item 1\n",
       "\\item 1\n",
       "\\item 1\n",
       "\\item 1\n",
       "\\item 1\n",
       "\\item 2\n",
       "\\item 1\n",
       "\\item 1\n",
       "\\item 1\n",
       "\\item 1\n",
       "\\item 1\n",
       "\\item 1\n",
       "\\item 1\n",
       "\\item 1\n",
       "\\item 1\n",
       "\\item 1\n",
       "\\item 1\n",
       "\\item 1\n",
       "\\item 1\n",
       "\\item 1\n",
       "\\item 1\n",
       "\\item 1\n",
       "\\item 1\n",
       "\\item 1\n",
       "\\item 2\n",
       "\\item 1\n",
       "\\item 1\n",
       "\\item 1\n",
       "\\item 2\n",
       "\\item 1\n",
       "\\item 1\n",
       "\\item 1\n",
       "\\item 1\n",
       "\\item 1\n",
       "\\item 1\n",
       "\\item 1\n",
       "\\item 1\n",
       "\\item 2\n",
       "\\item 1\n",
       "\\item 1\n",
       "\\item 1\n",
       "\\item 1\n",
       "\\item 1\n",
       "\\item 2\n",
       "\\item 1\n",
       "\\item 2\n",
       "\\item 1\n",
       "\\item 1\n",
       "\\item 1\n",
       "\\item 1\n",
       "\\item 1\n",
       "\\item 1\n",
       "\\item 1\n",
       "\\item 1\n",
       "\\item 2\n",
       "\\item 2\n",
       "\\item 1\n",
       "\\item 1\n",
       "\\item 1\n",
       "\\item 1\n",
       "\\item 2\n",
       "\\item 1\n",
       "\\item 2\n",
       "\\item 1\n",
       "\\item 2\n",
       "\\item 1\n",
       "\\item 1\n",
       "\\item 2\n",
       "\\item 2\n",
       "\\item 1\n",
       "\\item 1\n",
       "\\item 2\n",
       "\\item 1\n",
       "\\item 1\n",
       "\\item 1\n",
       "\\item 1\n",
       "\\item 2\n",
       "\\item 1\n",
       "\\item 1\n",
       "\\item 2\n",
       "\\item 1\n",
       "\\item 1\n",
       "\\item 1\n",
       "\\item 1\n",
       "\\item 1\n",
       "\\item 1\n",
       "\\item 1\n",
       "\\item 2\n",
       "\\item 2\n",
       "\\item 1\n",
       "\\item 2\n",
       "\\item 1\n",
       "\\item 2\n",
       "\\item 1\n",
       "\\item 1\n",
       "\\item 1\n",
       "\\item 1\n",
       "\\item 1\n",
       "\\item 2\n",
       "\\item 1\n",
       "\\item 1\n",
       "\\item 1\n",
       "\\item 1\n",
       "\\item 1\n",
       "\\item 1\n",
       "\\item 2\n",
       "\\item 1\n",
       "\\item 2\n",
       "\\item 1\n",
       "\\item 1\n",
       "\\item 1\n",
       "\\item 1\n",
       "\\item 1\n",
       "\\item 2\n",
       "\\item 1\n",
       "\\item 1\n",
       "\\item 2\n",
       "\\item 1\n",
       "\\item 1\n",
       "\\item 1\n",
       "\\item 1\n",
       "\\item 2\n",
       "\\item 1\n",
       "\\item 1\n",
       "\\item 1\n",
       "\\item 1\n",
       "\\item 1\n",
       "\\item 1\n",
       "\\item 1\n",
       "\\item 1\n",
       "\\item 1\n",
       "\\item 1\n",
       "\\item 1\n",
       "\\item 1\n",
       "\\item 1\n",
       "\\item 1\n",
       "\\item 1\n",
       "\\item 2\n",
       "\\item 1\n",
       "\\item 2\n",
       "\\item 1\n",
       "\\item 1\n",
       "\\item 1\n",
       "\\item 1\n",
       "\\item 1\n",
       "\\item 1\n",
       "\\item 2\n",
       "\\item 1\n",
       "\\item 2\n",
       "\\item 1\n",
       "\\item 2\n",
       "\\item 1\n",
       "\\item 1\n",
       "\\item 2\n",
       "\\item 1\n",
       "\\item 1\n",
       "\\item 1\n",
       "\\item 1\n",
       "\\item 1\n",
       "\\item 1\n",
       "\\item 2\n",
       "\\item 1\n",
       "\\item 1\n",
       "\\item 1\n",
       "\\item 2\n",
       "\\item 1\n",
       "\\item 1\n",
       "\\item 1\n",
       "\\item 1\n",
       "\\item 1\n",
       "\\item 1\n",
       "\\item 1\n",
       "\\item 1\n",
       "\\item 1\n",
       "\\item 1\n",
       "\\item 2\n",
       "\\item 1\n",
       "\\item 1\n",
       "\\item 2\n",
       "\\item 1\n",
       "\\item 1\n",
       "\\item 2\n",
       "\\item 1\n",
       "\\item 1\n",
       "\\item 1\n",
       "\\item 1\n",
       "\\end{enumerate*}\n"
      ],
      "text/markdown": [
       "1. 1\n",
       "2. 2\n",
       "3. 2\n",
       "4. 1\n",
       "5. 1\n",
       "6. 1\n",
       "7. 1\n",
       "8. 2\n",
       "9. 2\n",
       "10. 1\n",
       "11. 1\n",
       "12. 1\n",
       "13. 1\n",
       "14. 1\n",
       "15. 1\n",
       "16. 1\n",
       "17. 1\n",
       "18. 1\n",
       "19. 2\n",
       "20. 1\n",
       "21. 1\n",
       "22. 1\n",
       "23. 1\n",
       "24. 1\n",
       "25. 1\n",
       "26. 1\n",
       "27. 1\n",
       "28. 1\n",
       "29. 1\n",
       "30. 1\n",
       "31. 1\n",
       "32. 1\n",
       "33. 1\n",
       "34. 1\n",
       "35. 1\n",
       "36. 1\n",
       "37. 1\n",
       "38. 2\n",
       "39. 1\n",
       "40. 1\n",
       "41. 1\n",
       "42. 2\n",
       "43. 1\n",
       "44. 1\n",
       "45. 1\n",
       "46. 1\n",
       "47. 1\n",
       "48. 1\n",
       "49. 1\n",
       "50. 1\n",
       "51. 2\n",
       "52. 1\n",
       "53. 1\n",
       "54. 1\n",
       "55. 1\n",
       "56. 1\n",
       "57. 2\n",
       "58. 1\n",
       "59. 2\n",
       "60. 1\n",
       "61. 1\n",
       "62. 1\n",
       "63. 1\n",
       "64. 1\n",
       "65. 1\n",
       "66. 1\n",
       "67. 1\n",
       "68. 2\n",
       "69. 2\n",
       "70. 1\n",
       "71. 1\n",
       "72. 1\n",
       "73. 1\n",
       "74. 2\n",
       "75. 1\n",
       "76. 2\n",
       "77. 1\n",
       "78. 2\n",
       "79. 1\n",
       "80. 1\n",
       "81. 2\n",
       "82. 2\n",
       "83. 1\n",
       "84. 1\n",
       "85. 2\n",
       "86. 1\n",
       "87. 1\n",
       "88. 1\n",
       "89. 1\n",
       "90. 2\n",
       "91. 1\n",
       "92. 1\n",
       "93. 2\n",
       "94. 1\n",
       "95. 1\n",
       "96. 1\n",
       "97. 1\n",
       "98. 1\n",
       "99. 1\n",
       "100. 1\n",
       "101. 2\n",
       "102. 2\n",
       "103. 1\n",
       "104. 2\n",
       "105. 1\n",
       "106. 2\n",
       "107. 1\n",
       "108. 1\n",
       "109. 1\n",
       "110. 1\n",
       "111. 1\n",
       "112. 2\n",
       "113. 1\n",
       "114. 1\n",
       "115. 1\n",
       "116. 1\n",
       "117. 1\n",
       "118. 1\n",
       "119. 2\n",
       "120. 1\n",
       "121. 2\n",
       "122. 1\n",
       "123. 1\n",
       "124. 1\n",
       "125. 1\n",
       "126. 1\n",
       "127. 2\n",
       "128. 1\n",
       "129. 1\n",
       "130. 2\n",
       "131. 1\n",
       "132. 1\n",
       "133. 1\n",
       "134. 1\n",
       "135. 2\n",
       "136. 1\n",
       "137. 1\n",
       "138. 1\n",
       "139. 1\n",
       "140. 1\n",
       "141. 1\n",
       "142. 1\n",
       "143. 1\n",
       "144. 1\n",
       "145. 1\n",
       "146. 1\n",
       "147. 1\n",
       "148. 1\n",
       "149. 1\n",
       "150. 1\n",
       "151. 2\n",
       "152. 1\n",
       "153. 2\n",
       "154. 1\n",
       "155. 1\n",
       "156. 1\n",
       "157. 1\n",
       "158. 1\n",
       "159. 1\n",
       "160. 2\n",
       "161. 1\n",
       "162. 2\n",
       "163. 1\n",
       "164. 2\n",
       "165. 1\n",
       "166. 1\n",
       "167. 2\n",
       "168. 1\n",
       "169. 1\n",
       "170. 1\n",
       "171. 1\n",
       "172. 1\n",
       "173. 1\n",
       "174. 2\n",
       "175. 1\n",
       "176. 1\n",
       "177. 1\n",
       "178. 2\n",
       "179. 1\n",
       "180. 1\n",
       "181. 1\n",
       "182. 1\n",
       "183. 1\n",
       "184. 1\n",
       "185. 1\n",
       "186. 1\n",
       "187. 1\n",
       "188. 1\n",
       "189. 2\n",
       "190. 1\n",
       "191. 1\n",
       "192. 2\n",
       "193. 1\n",
       "194. 1\n",
       "195. 2\n",
       "196. 1\n",
       "197. 1\n",
       "198. 1\n",
       "199. 1\n",
       "\n",
       "\n"
      ],
      "text/plain": [
       "  [1] 1 2 2 1 1 1 1 2 2 1 1 1 1 1 1 1 1 1 2 1 1 1 1 1 1 1 1 1 1 1 1 1 1 1 1 1 1\n",
       " [38] 2 1 1 1 2 1 1 1 1 1 1 1 1 2 1 1 1 1 1 2 1 2 1 1 1 1 1 1 1 1 2 2 1 1 1 1 2\n",
       " [75] 1 2 1 2 1 1 2 2 1 1 2 1 1 1 1 2 1 1 2 1 1 1 1 1 1 1 2 2 1 2 1 2 1 1 1 1 1\n",
       "[112] 2 1 1 1 1 1 1 2 1 2 1 1 1 1 1 2 1 1 2 1 1 1 1 2 1 1 1 1 1 1 1 1 1 1 1 1 1\n",
       "[149] 1 1 2 1 2 1 1 1 1 1 1 2 1 2 1 2 1 1 2 1 1 1 1 1 1 2 1 1 1 2 1 1 1 1 1 1 1\n",
       "[186] 1 1 1 2 1 1 2 1 1 2 1 1 1 1"
      ]
     },
     "metadata": {},
     "output_type": "display_data"
    }
   ],
   "source": [
    "data3$lifetime"
   ]
  },
  {
   "cell_type": "code",
   "execution_count": 60,
   "metadata": {},
   "outputs": [],
   "source": [
    "data3$margin <- data3$AveSpend * 0.5"
   ]
  },
  {
   "cell_type": "code",
   "execution_count": 61,
   "metadata": {},
   "outputs": [],
   "source": [
    "data3[which(data3$lifetime == 2),]$CLV  <- data3[which(data3$lifetime == 2),]$margin +\n",
    "(data3[which(data3$lifetime == 2),]$margin * data3[which(data3$lifetime == 2),]$Retention) +\n",
    "(data3[which(data3$lifetime == 2),]$margin * data3[which(data3$lifetime == 2),]$Retention^2)"
   ]
  },
  {
   "cell_type": "code",
   "execution_count": 62,
   "metadata": {},
   "outputs": [],
   "source": [
    "data3[which(data3$lifetime == 1),]$CLV  <- data3[which(data3$lifetime == 1),]$margin +\n",
    "(data3[which(data3$lifetime == 1),]$margin * data3[which(data3$lifetime == 1),]$Retention)"
   ]
  },
  {
   "cell_type": "code",
   "execution_count": 63,
   "metadata": {},
   "outputs": [],
   "source": [
    "write.csv(data3,  './Data3WithCLV.csv')"
   ]
  },
  {
   "cell_type": "code",
   "execution_count": 154,
   "metadata": {},
   "outputs": [],
   "source": [
    "data3$month0 <- data3$Average.Spend.Last.3.months.of.Life.with.the.firm"
   ]
  },
  {
   "cell_type": "code",
   "execution_count": 155,
   "metadata": {},
   "outputs": [],
   "source": [
    "data3$month1 <- data3$Average.Spend.Last.3.months.of.Life.with.the.firm * data3$retention"
   ]
  },
  {
   "cell_type": "code",
   "execution_count": 156,
   "metadata": {},
   "outputs": [],
   "source": [
    "data3$month2 <- data3$Average.Spend.Last.3.months.of.Life.with.the.firm * data3$retention^2"
   ]
  },
  {
   "cell_type": "code",
   "execution_count": 157,
   "metadata": {},
   "outputs": [],
   "source": [
    "data3$month3 <- data3$Average.Spend.Last.3.months.of.Life.with.the.firm * data3$retention^3"
   ]
  },
  {
   "cell_type": "code",
   "execution_count": 158,
   "metadata": {},
   "outputs": [],
   "source": [
    "data3$clv <- data3$month0 + data3$month1 + data3$month2 + data3$month3"
   ]
  },
  {
   "cell_type": "code",
   "execution_count": 161,
   "metadata": {},
   "outputs": [],
   "source": [
    "write.csv(data3,  './Data3WithCLV.csv')"
   ]
  },
  {
   "cell_type": "code",
   "execution_count": 64,
   "metadata": {},
   "outputs": [],
   "source": [
    "clv <- read.csv('./CLVTest.csv')"
   ]
  },
  {
   "cell_type": "code",
   "execution_count": 85,
   "metadata": {},
   "outputs": [
    {
     "data": {
      "text/html": [
       "63.994512292372"
      ],
      "text/latex": [
       "63.994512292372"
      ],
      "text/markdown": [
       "63.994512292372"
      ],
      "text/plain": [
       "[1] 63.99451"
      ]
     },
     "metadata": {},
     "output_type": "display_data"
    }
   ],
   "source": [
    "mean(data3[which(data3$Joined == 1), ]$CLV)"
   ]
  },
  {
   "cell_type": "code",
   "execution_count": 86,
   "metadata": {},
   "outputs": [
    {
     "data": {
      "text/html": [
       "54.2434513487251"
      ],
      "text/latex": [
       "54.2434513487251"
      ],
      "text/markdown": [
       "54.2434513487251"
      ],
      "text/plain": [
       "[1] 54.24345"
      ]
     },
     "metadata": {},
     "output_type": "display_data"
    }
   ],
   "source": [
    "mean(data3[which(data3$Joined == 0), ]$CLV)"
   ]
  },
  {
   "cell_type": "code",
   "execution_count": 87,
   "metadata": {},
   "outputs": [
    {
     "data": {
      "text/plain": [
       "\n",
       "\tAnderson-Darling normality test\n",
       "\n",
       "data:  data3[which(data3$Joined == 1), ]$CLV\n",
       "A = 0.97096, p-value = 0.01378\n"
      ]
     },
     "metadata": {},
     "output_type": "display_data"
    }
   ],
   "source": [
    "ad.test(data3[which(data3$Joined == 1), ]$CLV)"
   ]
  },
  {
   "cell_type": "code",
   "execution_count": 88,
   "metadata": {},
   "outputs": [
    {
     "data": {
      "text/plain": [
       "\n",
       "\tAnderson-Darling normality test\n",
       "\n",
       "data:  data3[which(data3$Joined == 0), ]$CLV\n",
       "A = 0.9738, p-value = 0.01378\n"
      ]
     },
     "metadata": {},
     "output_type": "display_data"
    }
   ],
   "source": [
    "ad.test(data3[which(data3$Joined == 0), ]$CLV)"
   ]
  },
  {
   "cell_type": "code",
   "execution_count": 89,
   "metadata": {},
   "outputs": [
    {
     "data": {
      "text/plain": [
       "\n",
       "\tWilcoxon rank sum test with continuity correction\n",
       "\n",
       "data:  data3[which(data3$Joined == 1), ]$CLV and data3[which(data3$Joined == 0), ]$CLV\n",
       "W = 6019, p-value = 0.001126\n",
       "alternative hypothesis: true location shift is greater than 0\n"
      ]
     },
     "metadata": {},
     "output_type": "display_data"
    }
   ],
   "source": [
    "wilcox.test(data3[which(data3$Joined == 1), ]$CLV, \n",
    "            data3[which(data3$Joined == 0), ]$CLV, \n",
    "            alternative = 'g', paired = FALSE, conf.level = 0.95)"
   ]
  },
  {
   "cell_type": "code",
   "execution_count": null,
   "metadata": {},
   "outputs": [],
   "source": []
  }
 ],
 "metadata": {
  "kernelspec": {
   "display_name": "R",
   "language": "R",
   "name": "ir"
  },
  "language_info": {
   "codemirror_mode": "r",
   "file_extension": ".r",
   "mimetype": "text/x-r-source",
   "name": "R",
   "pygments_lexer": "r",
   "version": "3.5.2"
  },
  "toc": {
   "base_numbering": 1,
   "nav_menu": {},
   "number_sections": true,
   "sideBar": true,
   "skip_h1_title": false,
   "title_cell": "Table of Contents",
   "title_sidebar": "Contents",
   "toc_cell": false,
   "toc_position": {},
   "toc_section_display": true,
   "toc_window_display": false
  },
  "varInspector": {
   "cols": {
    "lenName": 16,
    "lenType": 16,
    "lenVar": 40
   },
   "kernels_config": {
    "python": {
     "delete_cmd_postfix": "",
     "delete_cmd_prefix": "del ",
     "library": "var_list.py",
     "varRefreshCmd": "print(var_dic_list())"
    },
    "r": {
     "delete_cmd_postfix": ") ",
     "delete_cmd_prefix": "rm(",
     "library": "var_list.r",
     "varRefreshCmd": "cat(var_dic_list()) "
    }
   },
   "oldHeight": 122,
   "position": {
    "height": "40px",
    "left": "1170px",
    "right": "20px",
    "top": "120px",
    "width": "250px"
   },
   "types_to_exclude": [
    "module",
    "function",
    "builtin_function_or_method",
    "instance",
    "_Feature"
   ],
   "varInspector_section_display": "none",
   "window_display": true
  }
 },
 "nbformat": 4,
 "nbformat_minor": 2
}
